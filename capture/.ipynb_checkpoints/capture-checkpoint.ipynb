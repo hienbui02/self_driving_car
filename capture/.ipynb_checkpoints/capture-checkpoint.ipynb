{
 "cells": [
  {
   "cell_type": "code",
   "execution_count": 1,
   "id": "8ecac783",
   "metadata": {},
   "outputs": [
    {
     "name": "stderr",
     "output_type": "stream",
     "text": [
      "WARNING: Carrier board is not from a Jetson Developer Kit.\n",
      "WARNNIG: Jetson.GPIO library has not been verified with this carrier board,\n",
      "WARNING: and in fact is unlikely to work correctly.\n"
     ]
    }
   ],
   "source": [
    "import cv2\n",
    "from pop import Util\n",
    "import time"
   ]
  },
  {
   "cell_type": "code",
   "execution_count": null,
   "id": "b49deb23",
   "metadata": {},
   "outputs": [
    {
     "name": "stdout",
     "output_type": "stream",
     "text": [
      "640.0 480.0\n"
     ]
    },
    {
     "data": {
      "application/vnd.jupyter.widget-view+json": {
       "model_id": "89ad30710dc142e09b4def0d129b683c",
       "version_major": 2,
       "version_minor": 0
      },
      "text/plain": [
       "Image(value=b'\\xff\\xd8\\xff\\xe0\\x00\\x10JFIF\\x00\\x01\\x01\\x00\\x00\\x01\\x00\\x01\\x00\\x00\\xff\\xdb\\x00C\\x00\\x02\\x01\\x0…"
      ]
     },
     "metadata": {},
     "output_type": "display_data"
    }
   ],
   "source": [
    "Util.enable_imshow()\n",
    "gstr = Util.gstrmer(width =640, height= 480, fps =30, flip =0)\n",
    "camera = cv2.VideoCapture(gstr, cv2.CAP_GSTREAMER)\n",
    "\n",
    "if not camera.isOpened():\n",
    "    print(\"Not Found\")\n",
    "\n",
    "# fourcc = cv2.VideoWriter_fourcc(*\"X264\")\n",
    "# out = cv2.VideoWriter(\"soda.avi\", fourcc, 30, (640,480))\n",
    "    \n",
    "width = camera.get(cv2.CAP_PROP_FRAME_WIDTH)\n",
    "height = camera.get(cv2.CAP_PROP_FRAME_HEIGHT)\n",
    "print(width, height)\n",
    "a = 0\n",
    "for _ in range(100):\n",
    "    ret, frame = camera.read()\n",
    "   \n",
    "    a = a  + 1\n",
    "    #out.write(frame)\n",
    "    cv2.imwrite(f'{a}img.jpg', frame)\n",
    "    if not ret:\n",
    "        break\n",
    "    cv2.imshow(\"soda\", frame)\n",
    "    time.sleep(10)\n",
    "    \n",
    "camera.release()\n",
    "cv2.destroyAllWindows()"
   ]
  },
  {
   "cell_type": "code",
   "execution_count": null,
   "id": "37337911",
   "metadata": {},
   "outputs": [],
   "source": []
  },
  {
   "cell_type": "code",
   "execution_count": null,
   "id": "e8bd8c75",
   "metadata": {},
   "outputs": [],
   "source": []
  }
 ],
 "metadata": {
  "kernelspec": {
   "display_name": "Python 3",
   "language": "python",
   "name": "python3"
  },
  "language_info": {
   "codemirror_mode": {
    "name": "ipython",
    "version": 3
   },
   "file_extension": ".py",
   "mimetype": "text/x-python",
   "name": "python",
   "nbconvert_exporter": "python",
   "pygments_lexer": "ipython3",
   "version": "3.6.9"
  }
 },
 "nbformat": 4,
 "nbformat_minor": 5
}
